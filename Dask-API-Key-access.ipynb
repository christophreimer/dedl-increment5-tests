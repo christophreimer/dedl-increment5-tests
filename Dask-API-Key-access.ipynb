{
 "cells": [
  {
   "cell_type": "markdown",
   "id": "b05008a3-ac24-46f7-8e45-29de7443e549",
   "metadata": {},
   "source": [
    "# Demonstration the use of API keys with Dask"
   ]
  },
  {
   "cell_type": "code",
   "execution_count": 1,
   "id": "975db856-21c6-4d64-a0fc-f6456578cf41",
   "metadata": {
    "tags": []
   },
   "outputs": [],
   "source": [
    "!pip install -q dask-gateway"
   ]
  },
  {
   "cell_type": "code",
   "execution_count": 2,
   "id": "e5e5059f-9424-4536-ad4a-14c9ae8bcb1a",
   "metadata": {
    "tags": []
   },
   "outputs": [],
   "source": [
    "from dask_gateway.auth import GatewayAuth\n",
    "from getpass import getpass\n",
    "import requests\n",
    "import jwt\n",
    "from jwt import PyJWKClient\n",
    "from datetime import datetime\n",
    "\n",
    "class DEDL_APIKey_Auth(GatewayAuth):\n",
    "    \n",
    "    def __init__(self, apikeyid):\n",
    "        self.apikeyid = apikeyid\n",
    "        self.token_url = \"https://identity.data.destination-earth.eu/auth/realms/dedl/protocol/openid-connect/token\"\n",
    "        self.cert_url = \"https://identity.data.destination-earth.eu/auth/realms/dedl/protocol/openid-connect/certs\"\n",
    "        self.token = self.get_token()\n",
    "        self.access_token_decoded = self.decode_access_token()\n",
    "    \n",
    "    def get_token(self):\n",
    "        payload = {\n",
    "            \"grant_type\": \"client_credentials\",\n",
    "            \"client_id\": self.apikeyid,\n",
    "            \"client_secret\": getpass(prompt=\"Your API Key:\")\n",
    "        }\n",
    "        return requests.post(self.token_url, data=payload).json()\n",
    "    \n",
    "    def decode_access_token(self):\n",
    "        jwks_client = PyJWKClient(self.cert_url)\n",
    "        signing_key = jwks_client.get_signing_key_from_jwt(self.token[\"access_token\"])\n",
    "        return jwt.decode(self.token[\"access_token\"], signing_key.key, audience=\"account\", algorithms=[\"RS256\"])\n",
    "    \n",
    "    def token_expired(self):\n",
    "        if datetime.now() > datetime.fromtimestamp(self.access_token_decoded[\"exp\"]):\n",
    "            return True\n",
    "        else:\n",
    "            return False\n",
    "    \n",
    "    def refresh_token_exchange(self):\n",
    "        payload = {\n",
    "            \"grant_type\": \"refresh_token\",\n",
    "            \"client_id\": \"dedl-stack-public-client\",\n",
    "            \"refresh_token\": self.token[\"refresh_token\"],\n",
    "        }\n",
    "        return requests.post(self.token_url, data=payload).json()\n",
    "    \n",
    "    def refresh(self):\n",
    "        self.token = self.refresh_token_exchange()\n",
    "        self.access_token_decoded = self.decode_access_token()\n",
    "        \n",
    "        \n",
    "    def pre_request(self, resp):\n",
    "        if self.token_expired():\n",
    "            self.refresh()\n",
    "        headers = {\"Authorization\": \"Bearer \" + self.token[\"access_token\"]}\n",
    "        return headers, None"
   ]
  },
  {
   "cell_type": "markdown",
   "id": "07ec106f-fa51-4e82-acb0-a76ce691a545",
   "metadata": {},
   "source": [
    "### Provide your API Key for authentication"
   ]
  },
  {
   "cell_type": "code",
   "execution_count": 3,
   "id": "9d733755-dec1-470f-8c9b-341281659ffd",
   "metadata": {
    "tags": []
   },
   "outputs": [
    {
     "name": "stdout",
     "output_type": "stream",
     "text": [
      " stack-internal\n",
      "Your API Key: ········\n"
     ]
    }
   ],
   "source": [
    "mykey=input()\n",
    "authenticator = DEDL_APIKey_Auth(apikeyid=mykey)"
   ]
  },
  {
   "cell_type": "markdown",
   "id": "29f7a9ae-4406-4bc5-a444-5eec18c4cc24",
   "metadata": {},
   "source": [
    "## Dask Gateway - Staging Central"
   ]
  },
  {
   "cell_type": "code",
   "execution_count": 4,
   "id": "0114af8b-9c89-4db7-87e8-e4fff248b8b3",
   "metadata": {
    "tags": []
   },
   "outputs": [],
   "source": [
    "from dask_gateway import Gateway\n",
    "from distributed import Client\n",
    "\n",
    "dgw_central = Gateway(address=\"http://217.71.193.55.nip.io\",\n",
    "              proxy_address=\"tcp://217.71.193.55:80\",\n",
    "              auth=authenticator)"
   ]
  },
  {
   "cell_type": "code",
   "execution_count": 5,
   "id": "1d12ddcd-017e-48a7-b9f7-dc19927dadce",
   "metadata": {
    "tags": []
   },
   "outputs": [],
   "source": [
    "cluster_central = dgw_central.new_cluster()"
   ]
  },
  {
   "cell_type": "code",
   "execution_count": 6,
   "id": "a5584ca9-f6f6-4cab-a230-cc9b8239f3b4",
   "metadata": {
    "tags": []
   },
   "outputs": [
    {
     "data": {
      "application/vnd.jupyter.widget-view+json": {
       "model_id": "6972bdc1917b4c7e92f91aeaa8593de2",
       "version_major": 2,
       "version_minor": 0
      },
      "text/plain": [
       "VBox(children=(HTML(value='<h2>GatewayCluster</h2>'), HBox(children=(HTML(value='\\n<div>\\n<style scoped>\\n    …"
      ]
     },
     "metadata": {},
     "output_type": "display_data"
    }
   ],
   "source": [
    "cluster_central"
   ]
  },
  {
   "cell_type": "code",
   "execution_count": 7,
   "id": "78623a66-3c5d-4c37-a0d3-e9dee96e0a49",
   "metadata": {
    "tags": []
   },
   "outputs": [
    {
     "name": "stderr",
     "output_type": "stream",
     "text": [
      "/opt/conda/lib/python3.10/site-packages/distributed/client.py:1388: VersionMismatchWarning: Mismatched versions found\n",
      "\n",
      "+-------------+-----------------+----------------+----------------+\n",
      "| Package     | Client          | Scheduler      | Workers        |\n",
      "+-------------+-----------------+----------------+----------------+\n",
      "| dask        | 2023.5.0        | 2023.8.0       | 2023.8.0       |\n",
      "| distributed | 2023.5.0        | 2023.8.0       | 2023.8.0       |\n",
      "| numpy       | 1.23.5          | 1.25.2         | 1.25.2         |\n",
      "| pandas      | 2.0.1           | 2.0.3          | 2.0.3          |\n",
      "| python      | 3.10.11.final.0 | 3.11.4.final.0 | 3.11.4.final.0 |\n",
      "| tornado     | 6.3             | 6.3.2          | 6.3.2          |\n",
      "+-------------+-----------------+----------------+----------------+\n",
      "  warnings.warn(version_module.VersionMismatchWarning(msg[0][\"warning\"]))\n"
     ]
    }
   ],
   "source": [
    "client = cluster_central.get_client()"
   ]
  },
  {
   "cell_type": "code",
   "execution_count": 8,
   "id": "ec18923c-7f41-4891-98fb-98d2e235a8b6",
   "metadata": {
    "tags": []
   },
   "outputs": [],
   "source": [
    "cluster_central.shutdown()"
   ]
  },
  {
   "cell_type": "code",
   "execution_count": null,
   "id": "717b4bb2-1974-48ae-bfa7-210048969092",
   "metadata": {},
   "outputs": [],
   "source": []
  }
 ],
 "metadata": {
  "kernelspec": {
   "display_name": "Python 3 (ipykernel)",
   "language": "python",
   "name": "python3"
  },
  "language_info": {
   "codemirror_mode": {
    "name": "ipython",
    "version": 3
   },
   "file_extension": ".py",
   "mimetype": "text/x-python",
   "name": "python",
   "nbconvert_exporter": "python",
   "pygments_lexer": "ipython3",
   "version": "3.10.11"
  }
 },
 "nbformat": 4,
 "nbformat_minor": 5
}
