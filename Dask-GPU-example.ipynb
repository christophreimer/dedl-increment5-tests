{
 "cells": [
  {
   "cell_type": "markdown",
   "id": "b05008a3-ac24-46f7-8e45-29de7443e549",
   "metadata": {},
   "source": [
    "# Demonstration of Dask requesting GPU resources\n",
    "\n",
    "GPU resources are currently available for STACK services at Central site and EUMETSAT bridge.\n",
    "The configuration of GPU resources is different between Central and EUMETSAT.\n",
    "\n",
    "STACK services at **Central** currently can make use of the following configuration:\n",
    "- GPU A1000 cards (no MIG support)\n",
    "- One GPU node with a 1/4 of an A1000 GPU\n",
    "- Second GPU node with time-slicing of a GPU allowing to get *2* slices\n",
    "\n",
    "\n",
    "STACK services at **EUMETSAT** bridge the following configuration is available:\n",
    "- One GPU (H100) node with MIG (Multi-instance GPU).\n",
    "- This GPU offeres 7 GPU slices, accordingly we can get 7 worker (pods) using this MIG profile."
   ]
  },
  {
   "cell_type": "code",
   "execution_count": 1,
   "id": "e5e5059f-9424-4536-ad4a-14c9ae8bcb1a",
   "metadata": {
    "tags": []
   },
   "outputs": [],
   "source": [
    "from dask_gateway.auth import GatewayAuth\n",
    "from getpass import getpass\n",
    "import requests\n",
    "import jwt\n",
    "from jwt import PyJWKClient\n",
    "from datetime import datetime\n",
    "\n",
    "class DEDLAuth(GatewayAuth):\n",
    "    \n",
    "    def __init__(self, username):\n",
    "        self.username = username\n",
    "        self.client_id = \"dedl-stack-public-client\"\n",
    "        self.token_url = \"https://identity.data.destination-earth.eu/auth/realms/dedl/protocol/openid-connect/token\"\n",
    "        self.cert_url = \"https://identity.data.destination-earth.eu/auth/realms/dedl/protocol/openid-connect/certs\"\n",
    "        self.token = self.get_token()\n",
    "        self.access_token_decoded = self.decode_access_token()\n",
    "    \n",
    "    def get_token(self):\n",
    "        payload = {\n",
    "            \"grant_type\": \"password\",\n",
    "            \"client_id\": self.client_id,\n",
    "            \"username\": self.username,\n",
    "            \"password\": getpass(prompt=\"Your DEDL Password:\")\n",
    "        }\n",
    "        return requests.post(self.token_url, data=payload).json()\n",
    "    \n",
    "    def decode_access_token(self):\n",
    "        jwks_client = PyJWKClient(self.cert_url)\n",
    "        signing_key = jwks_client.get_signing_key_from_jwt(self.token[\"access_token\"])\n",
    "        return jwt.decode(self.token[\"access_token\"], signing_key.key, audience=\"account\", algorithms=[\"RS256\"])\n",
    "    \n",
    "    def token_expired(self):\n",
    "        if datetime.now() > datetime.fromtimestamp(self.access_token_decoded[\"exp\"]):\n",
    "            return True\n",
    "        else:\n",
    "            return False\n",
    "    \n",
    "    def refresh_token_exchange(self):\n",
    "        payload = {\n",
    "            \"grant_type\": \"refresh_token\",\n",
    "            \"client_id\": \"dedl-stack-public-client\",\n",
    "            \"refresh_token\": self.token[\"refresh_token\"],\n",
    "        }\n",
    "        return requests.post(self.token_url, data=payload).json()\n",
    "    \n",
    "    def refresh(self):\n",
    "        self.token = self.refresh_token_exchange()\n",
    "        self.access_token_decoded = self.decode_access_token()\n",
    "        \n",
    "        \n",
    "    def pre_request(self, resp):\n",
    "        if self.token_expired():\n",
    "            self.refresh()\n",
    "        headers = {\"Authorization\": \"Bearer \" + self.token[\"access_token\"]}\n",
    "        return headers, None"
   ]
  },
  {
   "cell_type": "code",
   "execution_count": 2,
   "id": "88d7e46b-97cb-4c49-84cd-da43abe75d1d",
   "metadata": {
    "tags": []
   },
   "outputs": [],
   "source": [
    "from dask_gateway import Gateway\n",
    "from distributed import Client"
   ]
  },
  {
   "cell_type": "code",
   "execution_count": 3,
   "id": "9d733755-dec1-470f-8c9b-341281659ffd",
   "metadata": {
    "tags": []
   },
   "outputs": [
    {
     "name": "stdout",
     "output_type": "stream",
     "text": [
      " christoph.reimer@eodc.eu\n",
      "Your DEDL Password: ········\n"
     ]
    }
   ],
   "source": [
    "username=input()\n",
    "authenticator = DEDLAuth(username=username)"
   ]
  },
  {
   "cell_type": "markdown",
   "id": "0eb3e578-a123-4a47-9463-7b776be89be9",
   "metadata": {},
   "source": [
    "## Dask Gateway - Staging Central"
   ]
  },
  {
   "cell_type": "code",
   "execution_count": 4,
   "id": "88312622-9b5e-458e-b590-6adce27d7e8a",
   "metadata": {
    "tags": []
   },
   "outputs": [],
   "source": [
    "dgw_central = Gateway(address=\"http://217.71.193.55.nip.io\",\n",
    "              proxy_address=\"tcp://217.71.193.55:80\",\n",
    "              auth=authenticator)"
   ]
  },
  {
   "cell_type": "code",
   "execution_count": 5,
   "id": "76d94835-7956-4e10-8a2d-775d0bc16148",
   "metadata": {
    "tags": []
   },
   "outputs": [
    {
     "data": {
      "application/vnd.jupyter.widget-view+json": {
       "model_id": "4856b8da05ea48dcb57dacf4f64f1e6e",
       "version_major": 2,
       "version_minor": 0
      },
      "text/plain": [
       "VBox(children=(HTML(value='<h2>Cluster Options</h2>'), GridBox(children=(HTML(value=\"<p style='font-weight: bo…"
      ]
     },
     "metadata": {},
     "output_type": "display_data"
    },
    {
     "name": "stdout",
     "output_type": "stream",
     "text": [
      "Options<worker_cores=1,\n",
      "        worker_memory=2.0,\n",
      "        image='ghcr.io/eodcgmbh/container-images/dedl-dask:2023.08.3',\n",
      "        gpu_enabled=False>\n"
     ]
    }
   ],
   "source": [
    "options=dgw_central.cluster_options()\n",
    "options"
   ]
  },
  {
   "cell_type": "code",
   "execution_count": 6,
   "id": "20f6e6af-7ab8-4e44-b97a-b0455db4bf02",
   "metadata": {
    "tags": []
   },
   "outputs": [],
   "source": [
    "cluster_central = dgw_central.new_cluster(options)"
   ]
  },
  {
   "cell_type": "code",
   "execution_count": 7,
   "id": "fb1106dd-4ad8-44c6-8ca9-3c5fc33c4935",
   "metadata": {
    "tags": []
   },
   "outputs": [
    {
     "data": {
      "application/vnd.jupyter.widget-view+json": {
       "model_id": "9bb1a19ba1354d01b3ea53d0276191d5",
       "version_major": 2,
       "version_minor": 0
      },
      "text/plain": [
       "VBox(children=(HTML(value='<h2>GatewayCluster</h2>'), HBox(children=(HTML(value='\\n<div>\\n<style scoped>\\n    …"
      ]
     },
     "metadata": {},
     "output_type": "display_data"
    }
   ],
   "source": [
    "cluster_central"
   ]
  },
  {
   "cell_type": "code",
   "execution_count": 9,
   "id": "1c26b412-c594-4f93-ae60-7dccb8d1d423",
   "metadata": {},
   "outputs": [],
   "source": [
    "cluster_central.scale(1)"
   ]
  },
  {
   "cell_type": "code",
   "execution_count": 8,
   "id": "9d7a107e-8fd7-446a-9f6e-7c529efca752",
   "metadata": {
    "tags": []
   },
   "outputs": [
    {
     "name": "stderr",
     "output_type": "stream",
     "text": [
      "/opt/conda/envs/python_dedl/lib/python3.11/site-packages/distributed/client.py:1401: VersionMismatchWarning: Mismatched versions found\n",
      "\n",
      "+---------+--------+-----------+---------+\n",
      "| Package | Client | Scheduler | Workers |\n",
      "+---------+--------+-----------+---------+\n",
      "| numpy   | 1.26.4 | 1.25.2    | 1.25.2  |\n",
      "| pandas  | 2.2.3  | 2.0.3     | 2.0.3   |\n",
      "+---------+--------+-----------+---------+\n",
      "  warnings.warn(version_module.VersionMismatchWarning(msg[0][\"warning\"]))\n"
     ]
    }
   ],
   "source": [
    "client_central = cluster_central.get_client()"
   ]
  },
  {
   "cell_type": "code",
   "execution_count": 9,
   "id": "830199d2-d7a3-45e9-83ec-d7a764e06037",
   "metadata": {
    "tags": []
   },
   "outputs": [
    {
     "name": "stdout",
     "output_type": "stream",
     "text": [
      "\n",
      "Worker: tls://10.100.11.13:37033\n",
      "Return code: 0\n",
      "STDOUT:\n",
      "GPU 0: NVIDIA RTXA6000-12Q (UUID: GPU-9b477c69-77c0-11f0-bf5e-abaf983175e8)\n",
      "\n",
      "STDERR:\n",
      "\n"
     ]
    }
   ],
   "source": [
    "import subprocess\n",
    "\n",
    "# Define a function that runs a shell command\n",
    "def run_command(cmd):\n",
    "    result = subprocess.run(cmd, shell=True, capture_output=True, text=True)\n",
    "    return {\n",
    "        \"returncode\": result.returncode,\n",
    "        \"stdout\": result.stdout,\n",
    "        \"stderr\": result.stderr,\n",
    "    }\n",
    "\n",
    "# Run nvidia-smi command on all workers\n",
    "results = client_central.run(run_command, \"nvidia-smi -L\")\n",
    "\n",
    "for worker, output in results.items():\n",
    "    print(f\"\\nWorker: {worker}\")\n",
    "    print(f\"Return code: {output['returncode']}\")\n",
    "    print(f\"STDOUT:\\n{output['stdout']}\")\n",
    "    print(f\"STDERR:\\n{output['stderr']}\")"
   ]
  },
  {
   "cell_type": "code",
   "execution_count": 10,
   "id": "067381bb-4035-48d5-b4ae-a5132d7ed980",
   "metadata": {
    "tags": []
   },
   "outputs": [],
   "source": [
    "cluster_central.shutdown()"
   ]
  },
  {
   "cell_type": "markdown",
   "id": "17a693f9-06ba-44ab-ad4a-109e3b4fc575",
   "metadata": {
    "tags": []
   },
   "source": [
    "## Dask Gateway - Staging EUMETSAT"
   ]
  },
  {
   "cell_type": "code",
   "execution_count": 4,
   "id": "893df0d5-64d5-4278-bd71-f753af27ca71",
   "metadata": {
    "tags": []
   },
   "outputs": [],
   "source": [
    "dgw_eum = Gateway(address=\"http://194.153.73.129.nip.io\",\n",
    "              proxy_address=\"tcp://194.153.73.129:80\",\n",
    "              auth=authenticator)"
   ]
  },
  {
   "cell_type": "markdown",
   "id": "af7e5c92-002f-4238-b677-be4bd81c37e4",
   "metadata": {},
   "source": [
    "RAPIDS image to test rapids MIG support ghcr.io/eodcgmbh/container-images/eodc-rapids-dask:2025.9.1"
   ]
  },
  {
   "cell_type": "code",
   "execution_count": 5,
   "id": "14233143-07c6-473d-acb7-72a52163d0d3",
   "metadata": {
    "tags": []
   },
   "outputs": [
    {
     "data": {
      "application/vnd.jupyter.widget-view+json": {
       "model_id": "fdbb6005847544189ac269220686bad1",
       "version_major": 2,
       "version_minor": 0
      },
      "text/plain": [
       "VBox(children=(HTML(value='<h2>Cluster Options</h2>'), GridBox(children=(HTML(value=\"<p style='font-weight: bo…"
      ]
     },
     "metadata": {},
     "output_type": "display_data"
    },
    {
     "name": "stdout",
     "output_type": "stream",
     "text": [
      "Options<worker_cores=1,\n",
      "        worker_memory=2.0,\n",
      "        image='ghcr.io/eodcgmbh/container-images/dedl-dask:2023.08.3',\n",
      "        gpu_enabled=False>\n"
     ]
    }
   ],
   "source": [
    "cluster_options = dgw_eum.cluster_options()\n",
    "cluster_options"
   ]
  },
  {
   "cell_type": "code",
   "execution_count": 20,
   "id": "82419295-7989-4d81-9975-a774226ed9c4",
   "metadata": {
    "tags": []
   },
   "outputs": [],
   "source": [
    "cluster_eum = dgw_eum.new_cluster(cluster_options)"
   ]
  },
  {
   "cell_type": "code",
   "execution_count": 21,
   "id": "063643ec-ecdc-451c-8366-95dfd955686a",
   "metadata": {
    "tags": []
   },
   "outputs": [
    {
     "data": {
      "application/vnd.jupyter.widget-view+json": {
       "model_id": "553243d0d1444f31ba3a59307e5e9ec2",
       "version_major": 2,
       "version_minor": 0
      },
      "text/plain": [
       "VBox(children=(HTML(value='<h2>GatewayCluster</h2>'), HBox(children=(HTML(value='\\n<div>\\n<style scoped>\\n    …"
      ]
     },
     "metadata": {},
     "output_type": "display_data"
    }
   ],
   "source": [
    "cluster_eum"
   ]
  },
  {
   "cell_type": "code",
   "execution_count": 14,
   "id": "6c4f92d4-9805-4fcd-87c2-7d9e9863e3b8",
   "metadata": {
    "tags": []
   },
   "outputs": [],
   "source": [
    "cluster_eum.scale(1)"
   ]
  },
  {
   "cell_type": "code",
   "execution_count": 22,
   "id": "1d321ec4-89d7-48cb-9b50-47bbcb604176",
   "metadata": {
    "tags": []
   },
   "outputs": [
    {
     "name": "stderr",
     "output_type": "stream",
     "text": [
      "/opt/conda/envs/python_dedl/lib/python3.11/site-packages/distributed/client.py:1401: VersionMismatchWarning: Mismatched versions found\n",
      "\n",
      "+---------+--------+-----------+---------+\n",
      "| Package | Client | Scheduler | Workers |\n",
      "+---------+--------+-----------+---------+\n",
      "| numpy   | 1.26.4 | 1.25.2    | 1.25.2  |\n",
      "| pandas  | 2.2.3  | 2.0.3     | 2.0.3   |\n",
      "+---------+--------+-----------+---------+\n",
      "  warnings.warn(version_module.VersionMismatchWarning(msg[0][\"warning\"]))\n"
     ]
    }
   ],
   "source": [
    "client_eum = cluster_eum.get_client()"
   ]
  },
  {
   "cell_type": "markdown",
   "id": "b34535ac-c8de-486c-9603-c3145a8c7c0b",
   "metadata": {},
   "source": [
    "Run nvidia-smi command on all workers to see GPU availability on each worker node."
   ]
  },
  {
   "cell_type": "code",
   "execution_count": 23,
   "id": "2761c0c5-e2b3-4fc0-a5be-90055910bf5e",
   "metadata": {
    "tags": []
   },
   "outputs": [
    {
     "name": "stdout",
     "output_type": "stream",
     "text": [
      "\n",
      "Worker: tls://10.100.18.135:34555\n",
      "Return code: 0\n",
      "STDOUT:\n",
      "MIG-a5064957-71b0-52d6-abff-1f93683d2997\n",
      "\n",
      "STDERR:\n",
      "\n",
      "\n",
      "Worker: tls://10.100.18.69:46527\n",
      "Return code: 0\n",
      "STDOUT:\n",
      "MIG-7e533c01-a08b-58d5-b593-f963114abe91\n",
      "\n",
      "STDERR:\n",
      "\n"
     ]
    }
   ],
   "source": [
    "import subprocess\n",
    "\n",
    "# Define a function that runs a shell command\n",
    "def run_command(cmd):\n",
    "    result = subprocess.run(cmd, shell=True, capture_output=True, text=True)\n",
    "    return {\n",
    "        \"returncode\": result.returncode,\n",
    "        \"stdout\": result.stdout,\n",
    "        \"stderr\": result.stderr,\n",
    "    }\n",
    "\n",
    "# Run nvidia-smi command on all workers\n",
    "results = client_eum.run(run_command, \"nvidia-smi -L | grep -oP 'MIG-[0-9a-f-]+'\")\n",
    "#results = client_eum.run(run_command, \"nvidia-smi --query-gpu=gpu_uuid --format=csv\")\n",
    "#results = client_eum.run(run_command, \"nvidia-smi --query=mig_uuid --format=csv\")\n",
    "\n",
    "for worker, output in results.items():\n",
    "    print(f\"\\nWorker: {worker}\")\n",
    "    print(f\"Return code: {output['returncode']}\")\n",
    "    print(f\"STDOUT:\\n{output['stdout']}\")\n",
    "    print(f\"STDERR:\\n{output['stderr']}\")"
   ]
  },
  {
   "cell_type": "code",
   "execution_count": 24,
   "id": "53a0c48b-4e38-4555-91ab-6676ab3efdd9",
   "metadata": {
    "tags": []
   },
   "outputs": [],
   "source": [
    "cluster_eum.shutdown()"
   ]
  },
  {
   "cell_type": "code",
   "execution_count": null,
   "id": "98ccf159-8fc4-437f-a143-25cda63c281b",
   "metadata": {},
   "outputs": [],
   "source": []
  }
 ],
 "metadata": {
  "kernelspec": {
   "display_name": "Python DEDL",
   "language": "python",
   "name": "python_dedl"
  },
  "language_info": {
   "codemirror_mode": {
    "name": "ipython",
    "version": 3
   },
   "file_extension": ".py",
   "mimetype": "text/x-python",
   "name": "python",
   "nbconvert_exporter": "python",
   "pygments_lexer": "ipython3",
   "version": "3.11.4"
  }
 },
 "nbformat": 4,
 "nbformat_minor": 5
}
